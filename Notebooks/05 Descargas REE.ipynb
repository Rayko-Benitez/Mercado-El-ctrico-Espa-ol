{
 "cells": [
  {
   "cell_type": "markdown",
   "id": "f2d21e18",
   "metadata": {},
   "source": [
    "# Introducción"
   ]
  },
  {
   "cell_type": "markdown",
   "id": "5137ed13",
   "metadata": {},
   "source": [
    "Estos son los datos planificados a guardar y acumular con el objetivo que sirvan para procesos de forecasting eléctrico."
   ]
  },
  {
   "cell_type": "markdown",
   "id": "6b8b7838",
   "metadata": {},
   "source": [
    "|          Categoría | Widget                                       | Descripción                                                            |\n",
    "| -----------------: | :------------------------------------------- | :--------------------------------------------------------------------- |\n",
    "|       **mercados** | `componentes-precio-energia-cierre-desglose` | Desglose horario de los componentes del precio (pool, peajes…)         |\n",
    "|                    | `energia-precios-ponderados-gestion-desvios` | Precio energético ponderado horario, incluyendo desviaciones           |\n",
    "|                    | `precios-mercados-tiempo-real`               | Precio intradiario (“real time”) por hora                              |\n",
    "|                    | `servicio_ajuste`                            | Volúmenes y precios horarios del servicio de ajuste de balance         |\n",
    "|        **demanda** | `evolucion_demanda`                          | Serie histórica de la demanda eléctrica total por hora                 |\n",
    "|                    | `ire-general`                                | Consumo eléctrico instantáneo real por hora                            |\n",
    "|     **generacion** | `evolucion-renovable-no-renovable`           | Evolución horaria de producción renovable vs. no renovable             |\n",
    "|                    | `estructura-generacion`                      | Mix horario de generación por tecnología (renovable, nuclear, carbón…) |\n",
    "|                    | `potencia-instalada`                         | Potencia instalada total por tecnología                                |\n",
    "|   **intercambios** | `todas-fronteras-fisicos`                    | Flujos horarios físicos de intercambio con todas las fronteras         |\n",
    "|        **balance** | `balance-electrico`                          | Balance horario entre generación y demanda                             |\n",
    "| **almacenamiento** | `energia-almacenamiento`                     | Energía almacenada por hora en instalaciones de almacenamiento         |\n",
    "|                    | `potencia-instalada`                         | Capacidad de potencia instalada en instalaciones de almacenamiento     |\n"
   ]
  },
  {
   "cell_type": "markdown",
   "id": "586a16a8",
   "metadata": {},
   "source": [
    "Los datos existentes en la API parecen iniciar desde enero de 2014 "
   ]
  },
  {
   "cell_type": "markdown",
   "id": "c45b6f8a",
   "metadata": {},
   "source": [
    "Para todos los casos intento priorizar `time_trunc = hour` si existe, para obtener datos horarios mejor segmentados aunque en muchas peticiones ese valor no existe y solo está disponible mensual o anual. En función de como aparece esa tabla o petición disponible, lo he ido modificando. \n",
    "\n",
    "Para determinarlo intento ver los datos desde la propia web en la escala temporal mínima que me permita."
   ]
  },
  {
   "cell_type": "markdown",
   "id": "8c422f25",
   "metadata": {},
   "source": [
    "# Librerias"
   ]
  },
  {
   "cell_type": "code",
   "execution_count": null,
   "id": "86e2213c",
   "metadata": {},
   "outputs": [],
   "source": [
    "import pandas as pd\n",
    "import requests\n",
    "import json\n",
    "from datetime import datetime, timedelta\n",
    "from dateutil.relativedelta import relativedelta\n",
    "from pathlib import Path\n",
    "import json\n",
    "from functools import reduce"
   ]
  },
  {
   "cell_type": "markdown",
   "id": "b13c9d0c",
   "metadata": {},
   "source": [
    "# Configuración"
   ]
  },
  {
   "cell_type": "markdown",
   "id": "0e194b38",
   "metadata": {},
   "source": [
    "Al ejecutar esta celda se crean las carpetas donde se irían descargando los archivos para mejor organización, en caso que ya existan lo ignora."
   ]
  },
  {
   "cell_type": "code",
   "execution_count": 2,
   "metadata": {},
   "outputs": [
    {
     "name": "stdout",
     "output_type": "stream",
     "text": [
      "Carpeta creada: ..\\descargas\\ree\\mercados\\componentes-precio-energia-cierre-desglose\n",
      "Carpeta creada: ..\\descargas\\ree\\mercados\\energia-precios-ponderados-gestion-desvios\n",
      "Carpeta creada: ..\\descargas\\ree\\mercados\\precios-mercados-tiempo-real\n",
      "Carpeta creada: ..\\descargas\\ree\\mercados\\energia-gestionada-servicios-ajuste\n",
      "Carpeta creada: ..\\descargas\\ree\\demanda\\evolucion\n",
      "Carpeta creada: ..\\descargas\\ree\\demanda\\ire-general\n",
      "Carpeta creada: ..\\descargas\\ree\\generacion\\evolucion-renovable-no-renovable\n",
      "Carpeta creada: ..\\descargas\\ree\\generacion\\estructura-generacion\n",
      "Carpeta creada: ..\\descargas\\ree\\generacion\\potencia-instalada\n",
      "Carpeta creada: ..\\descargas\\ree\\intercambios\\todas-fronteras-fisicos\n",
      "Carpeta creada: ..\\descargas\\ree\\balance\\balance-electrico\n",
      "Carpeta creada: ..\\descargas\\ree\\almacenamiento\\energia-almacenamiento\n",
      "Carpeta creada: ..\\descargas\\ree\\almacenamiento\\potencia-instalada\n"
     ]
    }
   ],
   "source": [
    "# Ruta base para descargas\n",
    "base_path = Path('../descargas/ree')\n",
    "\n",
    "# Definición de categorías y widgets\n",
    "endpoints = {\n",
    "    'mercados': [\n",
    "        'componentes-precio-energia-cierre-desglose',\n",
    "        'energia-precios-ponderados-gestion-desvios',\n",
    "        'precios-mercados-tiempo-real',\n",
    "        'energia-gestionada-servicios-ajuste',\n",
    "    ],\n",
    "    'demanda': [\n",
    "        'evolucion',\n",
    "        'ire-general',\n",
    "    ],\n",
    "    'generacion': [\n",
    "        'evolucion-renovable-no-renovable',\n",
    "        'estructura-generacion',\n",
    "        'potencia-instalada',\n",
    "    ],\n",
    "    'intercambios': [\n",
    "        'todas-fronteras-fisicos',\n",
    "    ],\n",
    "    'balance': [\n",
    "        'balance-electrico',\n",
    "    ],\n",
    "    'almacenamiento':[\n",
    "        'energia-almacenamiento',\n",
    "        'potencia-instalada',\n",
    "\n",
    "    ],\n",
    "}\n",
    "\n",
    "# Crear carpetas según la estructura definida\n",
    "for categoria, widgets in endpoints.items():\n",
    "    for widget in widgets:\n",
    "        carpeta = base_path / categoria / widget\n",
    "        if carpeta.exists():\n",
    "            print(f'Carpeta ya existe: {carpeta}')\n",
    "        else:\n",
    "            carpeta.mkdir(parents=True, exist_ok=True)\n",
    "            print(f'Carpeta creada: {carpeta}')"
   ]
  },
  {
   "cell_type": "markdown",
   "id": "ed80b355",
   "metadata": {},
   "source": [
    "# Funciones"
   ]
  },
  {
   "cell_type": "markdown",
   "id": "a57c7fc3",
   "metadata": {},
   "source": [
    "Descarga y guarda los archivos json con la respuesta a la petición de la API, con esto se puede visualizar correctamente el json usando por ejemplo extención de Google que facilite ver como se componen las ramas del archivo para generar las tablas que se guardan."
   ]
  },
  {
   "cell_type": "code",
   "execution_count": null,
   "id": "ce120f45",
   "metadata": {},
   "outputs": [],
   "source": [
    "def download_and_save_json(category, widget, start_date, end_date, time_trunc, base_path):\n",
    "    \"\"\"\n",
    "    Descarga JSON desde la API de REE en tramos temporales y guarda en la ruta adecuada.\n",
    "    Si time_trunc == 'hour', segmenta mensualmente; en otro caso, segmenta anualmente.\n",
    "\n",
    "    Args:\n",
    "        category (str): Categoría en la API.\n",
    "        widget (str): Nombre del widget/endpoint.\n",
    "        start_date (str): Fecha de inicio en formato 'YYYY-MM-DDTHH:MM'.\n",
    "        end_date   (str): Fecha de fin en formato 'YYYY-MM-DDTHH:MM'.\n",
    "        time_trunc (str): Nivel de agregación temporal ('hour', 'day', etc.).\n",
    "        base_path  (str o Path): Ruta base donde se guardan las descargas.\n",
    "    \"\"\"\n",
    "    BASE_URL = \"https://apidatos.ree.es/es/datos\"\n",
    "\n",
    "    def generate_segments(start, end, trunc):\n",
    "        dt_start = datetime.strptime(start, '%Y-%m-%dT%H:%M')\n",
    "        dt_end   = datetime.strptime(end,   '%Y-%m-%dT%H:%M')\n",
    "        segments = []\n",
    "        # Elegir intervalo: mensual para hourly, anual para el resto\n",
    "        delta_arg = {'months': 1} if trunc == 'hour' else {'years': 1}\n",
    "        while dt_start < dt_end:\n",
    "            seg_end = dt_start + relativedelta(**delta_arg) - timedelta(minutes=1)\n",
    "            if seg_end > dt_end:\n",
    "                seg_end = dt_end\n",
    "            segments.append((\n",
    "                dt_start.strftime('%Y-%m-%dT%H:%M'),\n",
    "                seg_end.strftime('%Y-%m-%dT%H:%M')\n",
    "            ))\n",
    "            dt_start = seg_end + timedelta(minutes=1)\n",
    "        return segments\n",
    "\n",
    "    # Generar tramos y descargar cada uno\n",
    "    for seg_start, seg_end in generate_segments(start_date, end_date, time_trunc):\n",
    "        url = f\"{BASE_URL}/{category}/{widget}\"\n",
    "        params = {\n",
    "            \"start_date\": seg_start,\n",
    "            \"end_date\": seg_end,\n",
    "            \"time_trunc\": time_trunc\n",
    "        }\n",
    "        response = requests.get(url, params=params)\n",
    "        response.raise_for_status()\n",
    "        data = response.json()\n",
    "\n",
    "        # Nombre de fichero seguro\n",
    "        safe_start = seg_start.replace(\":\", \"\").replace(\"T\", \"_\")\n",
    "        safe_end   = seg_end.replace(\":\", \"\").replace(\"T\", \"_\")\n",
    "        filename   = f\"{widget}_{safe_start}_{safe_end}.json\"\n",
    "\n",
    "        # Carpeta destino\n",
    "        folder = Path(base_path) / category / widget\n",
    "        folder.mkdir(parents=True, exist_ok=True)\n",
    "\n",
    "        # Guardar JSON\n",
    "        file_path = folder / filename\n",
    "        with open(file_path, \"w\", encoding=\"utf-8\") as f:\n",
    "            json.dump(data, f, ensure_ascii=False, indent=2)\n",
    "\n",
    "        print(f\"Guardado: {file_path}\")\n"
   ]
  },
  {
   "cell_type": "markdown",
   "id": "a7d783eb",
   "metadata": {},
   "source": [
    "Esta función toma los json dentro de la carpeta correspondiente y crea las tablas según donde se encuentren los valores."
   ]
  },
  {
   "cell_type": "code",
   "execution_count": 35,
   "id": "1f03cb81",
   "metadata": {},
   "outputs": [],
   "source": [
    "def parse_componentes_json(path, time_trunc):\n",
    "    \"\"\"\n",
    "    Parsea JSON(s) y admite:\n",
    "    - Caso hourly (attrs.values)\n",
    "    - Caso monthly estándar (attrs.content)\n",
    "    - Caso fallback: attrs.values en lugar de attrs.content\n",
    "\n",
    "    Parsea todos los JSON de una carpeta (o archivo) y devuelve un DataFrame\n",
    "    donde cada columna es el 'title' de cada serie y los registros son los 'value'\n",
    "    para cada fecha/hora (formateado a YYYY-MM-DD para monthly, o con hora si hourly).\n",
    "\n",
    "    Args:\n",
    "        path (str or Path): Ruta a carpeta o archivo JSON.\n",
    "        time_trunc (str): Nivel de agregación ('hour' para hourly, else monthly).\n",
    "    \"\"\"\n",
    "    path = Path(path)\n",
    "    json_files = sorted(path.glob('*.json')) if path.is_dir() else [path]\n",
    "    dfs_por_archivo = []\n",
    "\n",
    "    for file_path in json_files:\n",
    "        with open(file_path, 'r', encoding='utf-8') as f:\n",
    "            js = json.load(f)\n",
    "\n",
    "        series_dfs = []\n",
    "        for group in js.get('included', []):\n",
    "            attrs = group.get('attributes', {})\n",
    "\n",
    "            # Caso hourly\n",
    "            if time_trunc == 'hour' and 'values' in attrs:\n",
    "                title  = attrs.get('title')\n",
    "                values = attrs.get('values', [])\n",
    "                if values:\n",
    "                    df_temp = pd.DataFrame(values)[['datetime','value']].rename(columns={'value': title})\n",
    "                    series_dfs.append(df_temp)\n",
    "\n",
    "            # Monthly u otros\n",
    "            else:\n",
    "                # 1) intento contenido estándar\n",
    "                contents = attrs.get('content', [])\n",
    "                if contents:\n",
    "                    for content in contents:\n",
    "                        c_attr = content.get('attributes', {})\n",
    "                        title  = c_attr.get('title')\n",
    "                        values = c_attr.get('values', [])\n",
    "                        if values:\n",
    "                            df_temp = pd.DataFrame(values)[['datetime','value']].rename(columns={'value': title})\n",
    "                            series_dfs.append(df_temp)\n",
    "\n",
    "                # 2) fallback: 'values' en mismo nivel que 'content'\n",
    "                elif 'values' in attrs:\n",
    "                    title  = attrs.get('title')\n",
    "                    values = attrs.get('values', [])\n",
    "                    if values:\n",
    "                        df_temp = pd.DataFrame(values)[['datetime','value']].rename(columns={'value': title})\n",
    "                        series_dfs.append(df_temp)\n",
    "\n",
    "        if series_dfs:\n",
    "            df_merged = reduce(lambda l, r: pd.merge(l, r, on='datetime', how='outer'), series_dfs)\n",
    "            dfs_por_archivo.append(df_merged)\n",
    "\n",
    "    if not dfs_por_archivo:\n",
    "        return pd.DataFrame()\n",
    "\n",
    "    df_master = pd.concat(dfs_por_archivo, ignore_index=True)\n",
    "    # Formateo final de 'datetime'\n",
    "    if time_trunc == 'hour':\n",
    "        df_master['datetime'] = pd.to_datetime(df_master['datetime'].str[:19])\n",
    "    else:\n",
    "        df_master['datetime'] = pd.to_datetime(df_master['datetime'].str[:10])\n",
    "    return df_master\n"
   ]
  },
  {
   "cell_type": "markdown",
   "id": "108c094f",
   "metadata": {},
   "source": [
    "# Mercados"
   ]
  },
  {
   "cell_type": "markdown",
   "id": "149027be",
   "metadata": {},
   "source": [
    "## componentes-precio-energia-cierre-desglose"
   ]
  },
  {
   "cell_type": "markdown",
   "id": "d3090fc9",
   "metadata": {},
   "source": [
    "### Descarga"
   ]
  },
  {
   "cell_type": "markdown",
   "id": "557406e4",
   "metadata": {},
   "source": [
    "En este código usado para todas las secciones, se modifican las fechas y con esto se realiza la descargar del archivo JSON en su carpeta correspondiente. "
   ]
  },
  {
   "cell_type": "markdown",
   "id": "77cf2b4f",
   "metadata": {},
   "source": [
    "Para esta descarga en time_trunc solo admite month o year, aunque anual no tiene sentido."
   ]
  },
  {
   "cell_type": "code",
   "execution_count": 5,
   "id": "496704ea",
   "metadata": {},
   "outputs": [
    {
     "name": "stdout",
     "output_type": "stream",
     "text": [
      "Guardado: ..\\descargas\\ree\\mercados\\componentes-precio-energia-cierre-desglose\\componentes-precio-energia-cierre-desglose_2014-01-01_0000_2014-12-31_2359.json\n",
      "Guardado: ..\\descargas\\ree\\mercados\\componentes-precio-energia-cierre-desglose\\componentes-precio-energia-cierre-desglose_2015-01-01_0000_2015-12-31_2359.json\n",
      "Guardado: ..\\descargas\\ree\\mercados\\componentes-precio-energia-cierre-desglose\\componentes-precio-energia-cierre-desglose_2016-01-01_0000_2016-12-31_2359.json\n",
      "Guardado: ..\\descargas\\ree\\mercados\\componentes-precio-energia-cierre-desglose\\componentes-precio-energia-cierre-desglose_2017-01-01_0000_2017-12-31_2359.json\n",
      "Guardado: ..\\descargas\\ree\\mercados\\componentes-precio-energia-cierre-desglose\\componentes-precio-energia-cierre-desglose_2018-01-01_0000_2018-12-31_2359.json\n",
      "Guardado: ..\\descargas\\ree\\mercados\\componentes-precio-energia-cierre-desglose\\componentes-precio-energia-cierre-desglose_2019-01-01_0000_2019-12-31_2359.json\n",
      "Guardado: ..\\descargas\\ree\\mercados\\componentes-precio-energia-cierre-desglose\\componentes-precio-energia-cierre-desglose_2020-01-01_0000_2020-12-31_2359.json\n",
      "Guardado: ..\\descargas\\ree\\mercados\\componentes-precio-energia-cierre-desglose\\componentes-precio-energia-cierre-desglose_2021-01-01_0000_2021-12-31_2359.json\n",
      "Guardado: ..\\descargas\\ree\\mercados\\componentes-precio-energia-cierre-desglose\\componentes-precio-energia-cierre-desglose_2022-01-01_0000_2022-12-31_2359.json\n",
      "Guardado: ..\\descargas\\ree\\mercados\\componentes-precio-energia-cierre-desglose\\componentes-precio-energia-cierre-desglose_2023-01-01_0000_2023-12-31_2359.json\n",
      "Guardado: ..\\descargas\\ree\\mercados\\componentes-precio-energia-cierre-desglose\\componentes-precio-energia-cierre-desglose_2024-01-01_0000_2024-12-31_2359.json\n",
      "Guardado: ..\\descargas\\ree\\mercados\\componentes-precio-energia-cierre-desglose\\componentes-precio-energia-cierre-desglose_2025-01-01_0000_2025-06-19_2359.json\n"
     ]
    }
   ],
   "source": [
    "download_and_save_json(\n",
    "    'mercados',\n",
    "    'componentes-precio-energia-cierre-desglose',\n",
    "    '2014-01-01T00:00',\n",
    "    '2025-06-19T23:59',\n",
    "    'month',\n",
    "    base_path\n",
    ")"
   ]
  },
  {
   "cell_type": "markdown",
   "id": "e96ca0d7",
   "metadata": {},
   "source": [
    "### Procesado"
   ]
  },
  {
   "cell_type": "code",
   "execution_count": 36,
   "id": "d023dce3",
   "metadata": {},
   "outputs": [
    {
     "data": {
      "application/vnd.microsoft.datawrangler.viewer.v0+json": {
       "columns": [
        {
         "name": "index",
         "rawType": "int64",
         "type": "integer"
        },
        {
         "name": "datetime",
         "rawType": "datetime64[ns]",
         "type": "datetime"
        },
        {
         "name": "Mercado diario",
         "rawType": "float64",
         "type": "float"
        },
        {
         "name": "Mercado intradiario (subastas MIBEL y continuo)",
         "rawType": "float64",
         "type": "float"
        },
        {
         "name": "Restricciones técnicas PDBF",
         "rawType": "float64",
         "type": "float"
        },
        {
         "name": "Banda de regulación secundaria",
         "rawType": "float64",
         "type": "float"
        },
        {
         "name": "Restricciones técnicas en tiempo real",
         "rawType": "float64",
         "type": "float"
        },
        {
         "name": "Incumplimiento de energía de balance",
         "rawType": "float64",
         "type": "float"
        },
        {
         "name": "Coste desvíos",
         "rawType": "float64",
         "type": "float"
        },
        {
         "name": "Saldo desvíos",
         "rawType": "float64",
         "type": "float"
        },
        {
         "name": "Control del factor de potencia",
         "rawType": "float64",
         "type": "float"
        },
        {
         "name": "Saldo PO 14.6",
         "rawType": "float64",
         "type": "float"
        },
        {
         "name": "Servicios de ajuste",
         "rawType": "float64",
         "type": "float"
        },
        {
         "name": "Pagos por capacidad",
         "rawType": "float64",
         "type": "float"
        },
        {
         "name": "Precio total (€/MWh)",
         "rawType": "float64",
         "type": "float"
        },
        {
         "name": "Energía de cierre (MWh)",
         "rawType": "float64",
         "type": "float"
        },
        {
         "name": "Mecanismo ajuste RD-L 10/2022",
         "rawType": "float64",
         "type": "float"
        }
       ],
       "ref": "d50af558-e8fb-46a7-8b4f-a4f7fdf390bc",
       "rows": [
        [
         "0",
         "2014-01-01 00:00:00",
         "36.39",
         "-0.08",
         "4.11",
         "1.44",
         "0.29",
         null,
         "0.48",
         "-0.1",
         "0.0",
         "0.02",
         "6.24",
         "7.0",
         "50.51",
         "21154193.43",
         null
        ],
        [
         "1",
         "2014-02-01 00:00:00",
         "18.77",
         "-0.12",
         "3.75",
         "1.42",
         "0.69",
         null,
         "0.22",
         "0.08",
         "0.0",
         "0.01",
         "6.169999999999999",
         "6.89",
         "33.33",
         "19470389.18",
         null
        ],
        [
         "2",
         "2014-03-01 00:00:00",
         "27.9",
         "-0.07",
         "4.2",
         "0.87",
         "0.58",
         null,
         "0.42",
         "0.01",
         "0.0",
         "0.0",
         "6.08",
         "5.46",
         "40.32",
         "20268048.308",
         null
        ],
        [
         "3",
         "2014-04-01 00:00:00",
         "27.26",
         "-0.06",
         "4.99",
         "0.93",
         "1.17",
         null,
         "0.27",
         "0.01",
         "0.0",
         "-0.01",
         "7.359999999999999",
         "5.29",
         "40.49",
         "18269238.76",
         null
        ],
        [
         "4",
         "2014-05-01 00:00:00",
         "43.18",
         "0.0",
         "3.52",
         "0.81",
         "0.26",
         null,
         "0.2",
         "0.01",
         "0.0",
         "0.01",
         "4.81",
         "5.14",
         "53.2",
         "19216055.628",
         null
        ]
       ],
       "shape": {
        "columns": 16,
        "rows": 5
       }
      },
      "text/html": [
       "<div>\n",
       "<style scoped>\n",
       "    .dataframe tbody tr th:only-of-type {\n",
       "        vertical-align: middle;\n",
       "    }\n",
       "\n",
       "    .dataframe tbody tr th {\n",
       "        vertical-align: top;\n",
       "    }\n",
       "\n",
       "    .dataframe thead th {\n",
       "        text-align: right;\n",
       "    }\n",
       "</style>\n",
       "<table border=\"1\" class=\"dataframe\">\n",
       "  <thead>\n",
       "    <tr style=\"text-align: right;\">\n",
       "      <th></th>\n",
       "      <th>datetime</th>\n",
       "      <th>Mercado diario</th>\n",
       "      <th>Mercado intradiario (subastas MIBEL y continuo)</th>\n",
       "      <th>Restricciones técnicas PDBF</th>\n",
       "      <th>Banda de regulación secundaria</th>\n",
       "      <th>Restricciones técnicas en tiempo real</th>\n",
       "      <th>Incumplimiento de energía de balance</th>\n",
       "      <th>Coste desvíos</th>\n",
       "      <th>Saldo desvíos</th>\n",
       "      <th>Control del factor de potencia</th>\n",
       "      <th>Saldo PO 14.6</th>\n",
       "      <th>Servicios de ajuste</th>\n",
       "      <th>Pagos por capacidad</th>\n",
       "      <th>Precio total (€/MWh)</th>\n",
       "      <th>Energía de cierre (MWh)</th>\n",
       "      <th>Mecanismo ajuste RD-L 10/2022</th>\n",
       "    </tr>\n",
       "  </thead>\n",
       "  <tbody>\n",
       "    <tr>\n",
       "      <th>0</th>\n",
       "      <td>2014-01-01</td>\n",
       "      <td>36.39</td>\n",
       "      <td>-0.08</td>\n",
       "      <td>4.11</td>\n",
       "      <td>1.44</td>\n",
       "      <td>0.29</td>\n",
       "      <td>NaN</td>\n",
       "      <td>0.48</td>\n",
       "      <td>-0.10</td>\n",
       "      <td>0.0</td>\n",
       "      <td>0.02</td>\n",
       "      <td>6.24</td>\n",
       "      <td>7.00</td>\n",
       "      <td>50.51</td>\n",
       "      <td>2.115419e+07</td>\n",
       "      <td>NaN</td>\n",
       "    </tr>\n",
       "    <tr>\n",
       "      <th>1</th>\n",
       "      <td>2014-02-01</td>\n",
       "      <td>18.77</td>\n",
       "      <td>-0.12</td>\n",
       "      <td>3.75</td>\n",
       "      <td>1.42</td>\n",
       "      <td>0.69</td>\n",
       "      <td>NaN</td>\n",
       "      <td>0.22</td>\n",
       "      <td>0.08</td>\n",
       "      <td>0.0</td>\n",
       "      <td>0.01</td>\n",
       "      <td>6.17</td>\n",
       "      <td>6.89</td>\n",
       "      <td>33.33</td>\n",
       "      <td>1.947039e+07</td>\n",
       "      <td>NaN</td>\n",
       "    </tr>\n",
       "    <tr>\n",
       "      <th>2</th>\n",
       "      <td>2014-03-01</td>\n",
       "      <td>27.90</td>\n",
       "      <td>-0.07</td>\n",
       "      <td>4.20</td>\n",
       "      <td>0.87</td>\n",
       "      <td>0.58</td>\n",
       "      <td>NaN</td>\n",
       "      <td>0.42</td>\n",
       "      <td>0.01</td>\n",
       "      <td>0.0</td>\n",
       "      <td>0.00</td>\n",
       "      <td>6.08</td>\n",
       "      <td>5.46</td>\n",
       "      <td>40.32</td>\n",
       "      <td>2.026805e+07</td>\n",
       "      <td>NaN</td>\n",
       "    </tr>\n",
       "    <tr>\n",
       "      <th>3</th>\n",
       "      <td>2014-04-01</td>\n",
       "      <td>27.26</td>\n",
       "      <td>-0.06</td>\n",
       "      <td>4.99</td>\n",
       "      <td>0.93</td>\n",
       "      <td>1.17</td>\n",
       "      <td>NaN</td>\n",
       "      <td>0.27</td>\n",
       "      <td>0.01</td>\n",
       "      <td>0.0</td>\n",
       "      <td>-0.01</td>\n",
       "      <td>7.36</td>\n",
       "      <td>5.29</td>\n",
       "      <td>40.49</td>\n",
       "      <td>1.826924e+07</td>\n",
       "      <td>NaN</td>\n",
       "    </tr>\n",
       "    <tr>\n",
       "      <th>4</th>\n",
       "      <td>2014-05-01</td>\n",
       "      <td>43.18</td>\n",
       "      <td>0.00</td>\n",
       "      <td>3.52</td>\n",
       "      <td>0.81</td>\n",
       "      <td>0.26</td>\n",
       "      <td>NaN</td>\n",
       "      <td>0.20</td>\n",
       "      <td>0.01</td>\n",
       "      <td>0.0</td>\n",
       "      <td>0.01</td>\n",
       "      <td>4.81</td>\n",
       "      <td>5.14</td>\n",
       "      <td>53.20</td>\n",
       "      <td>1.921606e+07</td>\n",
       "      <td>NaN</td>\n",
       "    </tr>\n",
       "  </tbody>\n",
       "</table>\n",
       "</div>"
      ],
      "text/plain": [
       "    datetime  Mercado diario  Mercado intradiario (subastas MIBEL y continuo)  \\\n",
       "0 2014-01-01           36.39                                            -0.08   \n",
       "1 2014-02-01           18.77                                            -0.12   \n",
       "2 2014-03-01           27.90                                            -0.07   \n",
       "3 2014-04-01           27.26                                            -0.06   \n",
       "4 2014-05-01           43.18                                             0.00   \n",
       "\n",
       "   Restricciones técnicas PDBF  Banda de regulación secundaria  \\\n",
       "0                         4.11                            1.44   \n",
       "1                         3.75                            1.42   \n",
       "2                         4.20                            0.87   \n",
       "3                         4.99                            0.93   \n",
       "4                         3.52                            0.81   \n",
       "\n",
       "   Restricciones técnicas en tiempo real  \\\n",
       "0                                   0.29   \n",
       "1                                   0.69   \n",
       "2                                   0.58   \n",
       "3                                   1.17   \n",
       "4                                   0.26   \n",
       "\n",
       "   Incumplimiento de energía de balance  Coste desvíos  Saldo desvíos  \\\n",
       "0                                   NaN           0.48          -0.10   \n",
       "1                                   NaN           0.22           0.08   \n",
       "2                                   NaN           0.42           0.01   \n",
       "3                                   NaN           0.27           0.01   \n",
       "4                                   NaN           0.20           0.01   \n",
       "\n",
       "   Control del factor de potencia  Saldo PO 14.6  Servicios de ajuste  \\\n",
       "0                             0.0           0.02                 6.24   \n",
       "1                             0.0           0.01                 6.17   \n",
       "2                             0.0           0.00                 6.08   \n",
       "3                             0.0          -0.01                 7.36   \n",
       "4                             0.0           0.01                 4.81   \n",
       "\n",
       "   Pagos por capacidad  Precio total (€/MWh)  Energía de cierre (MWh)  \\\n",
       "0                 7.00                 50.51             2.115419e+07   \n",
       "1                 6.89                 33.33             1.947039e+07   \n",
       "2                 5.46                 40.32             2.026805e+07   \n",
       "3                 5.29                 40.49             1.826924e+07   \n",
       "4                 5.14                 53.20             1.921606e+07   \n",
       "\n",
       "   Mecanismo ajuste RD-L 10/2022  \n",
       "0                            NaN  \n",
       "1                            NaN  \n",
       "2                            NaN  \n",
       "3                            NaN  \n",
       "4                            NaN  "
      ]
     },
     "execution_count": 36,
     "metadata": {},
     "output_type": "execute_result"
    }
   ],
   "source": [
    "folder = Path('../descargas/ree/mercados/componentes-precio-energia-cierre-desglose')\n",
    "df_1 = parse_componentes_json(folder, 'month')\n",
    "df_1.head()"
   ]
  },
  {
   "cell_type": "markdown",
   "id": "d21c47e8",
   "metadata": {},
   "source": [
    "## energia-precios-ponderados-gestion-desvios"
   ]
  },
  {
   "cell_type": "markdown",
   "id": "32464229",
   "metadata": {},
   "source": [
    "### Descarga"
   ]
  },
  {
   "cell_type": "code",
   "execution_count": 7,
   "id": "c0f0255c",
   "metadata": {},
   "outputs": [
    {
     "name": "stdout",
     "output_type": "stream",
     "text": [
      "Guardado: ..\\descargas\\ree\\mercados\\energia-precios-ponderados-gestion-desvios\\energia-precios-ponderados-gestion-desvios_2014-01-01_0000_2014-12-31_2359.json\n",
      "Guardado: ..\\descargas\\ree\\mercados\\energia-precios-ponderados-gestion-desvios\\energia-precios-ponderados-gestion-desvios_2015-01-01_0000_2015-12-31_2359.json\n",
      "Guardado: ..\\descargas\\ree\\mercados\\energia-precios-ponderados-gestion-desvios\\energia-precios-ponderados-gestion-desvios_2016-01-01_0000_2016-12-31_2359.json\n",
      "Guardado: ..\\descargas\\ree\\mercados\\energia-precios-ponderados-gestion-desvios\\energia-precios-ponderados-gestion-desvios_2017-01-01_0000_2017-12-31_2359.json\n",
      "Guardado: ..\\descargas\\ree\\mercados\\energia-precios-ponderados-gestion-desvios\\energia-precios-ponderados-gestion-desvios_2018-01-01_0000_2018-12-31_2359.json\n",
      "Guardado: ..\\descargas\\ree\\mercados\\energia-precios-ponderados-gestion-desvios\\energia-precios-ponderados-gestion-desvios_2019-01-01_0000_2019-12-31_2359.json\n",
      "Guardado: ..\\descargas\\ree\\mercados\\energia-precios-ponderados-gestion-desvios\\energia-precios-ponderados-gestion-desvios_2020-01-01_0000_2020-12-31_2359.json\n",
      "Guardado: ..\\descargas\\ree\\mercados\\energia-precios-ponderados-gestion-desvios\\energia-precios-ponderados-gestion-desvios_2021-01-01_0000_2021-12-31_2359.json\n",
      "Guardado: ..\\descargas\\ree\\mercados\\energia-precios-ponderados-gestion-desvios\\energia-precios-ponderados-gestion-desvios_2022-01-01_0000_2022-12-31_2359.json\n",
      "Guardado: ..\\descargas\\ree\\mercados\\energia-precios-ponderados-gestion-desvios\\energia-precios-ponderados-gestion-desvios_2023-01-01_0000_2023-12-31_2359.json\n",
      "Guardado: ..\\descargas\\ree\\mercados\\energia-precios-ponderados-gestion-desvios\\energia-precios-ponderados-gestion-desvios_2024-01-01_0000_2024-12-31_2359.json\n",
      "Guardado: ..\\descargas\\ree\\mercados\\energia-precios-ponderados-gestion-desvios\\energia-precios-ponderados-gestion-desvios_2025-01-01_0000_2025-06-19_2359.json\n"
     ]
    }
   ],
   "source": [
    "download_and_save_json(\n",
    "    'mercados',\n",
    "    'energia-precios-ponderados-gestion-desvios',\n",
    "    '2014-01-01T00:00',\n",
    "    '2025-06-19T23:59',\n",
    "    'month',\n",
    "    base_path\n",
    ")\n"
   ]
  },
  {
   "cell_type": "markdown",
   "id": "e79cd194",
   "metadata": {},
   "source": [
    "### Procesado"
   ]
  },
  {
   "cell_type": "code",
   "execution_count": 37,
   "id": "4fe01bf6",
   "metadata": {},
   "outputs": [
    {
     "data": {
      "application/vnd.microsoft.datawrangler.viewer.v0+json": {
       "columns": [
        {
         "name": "index",
         "rawType": "int64",
         "type": "integer"
        },
        {
         "name": "datetime",
         "rawType": "datetime64[ns]",
         "type": "datetime"
        },
        {
         "name": "Precio a subir gestión desvíos",
         "rawType": "float64",
         "type": "float"
        },
        {
         "name": "Precio a bajar gestión desvíos",
         "rawType": "float64",
         "type": "float"
        },
        {
         "name": "Precio energías de balance RR",
         "rawType": "float64",
         "type": "float"
        },
        {
         "name": "Divisor",
         "rawType": "float64",
         "type": "float"
        }
       ],
       "ref": "ecde95f2-c8de-4f13-92aa-6e821678d40f",
       "rows": [
        [
         "0",
         "2014-01-01 00:00:00",
         "49.48491964478708",
         "6.501511309451033",
         "7651643.9",
         "225669.9"
        ],
        [
         "1",
         "2014-02-01 00:00:00",
         "38.22866912990836",
         "1.2158481309025861",
         "6202008.17",
         "235842.5"
        ],
        [
         "2",
         "2014-03-01 00:00:00",
         "39.9126081215398",
         "6.348794743580807",
         "5021400.25",
         "240421.0"
        ],
        [
         "3",
         "2014-04-01 00:00:00",
         "37.84171671267939",
         "2.620149641663156",
         "4387850.04",
         "191512.40000000002"
        ],
        [
         "4",
         "2014-05-01 00:00:00",
         "50.20117415789479",
         "19.99708477078077",
         "5748427.99",
         "142551.5"
        ]
       ],
       "shape": {
        "columns": 5,
        "rows": 5
       }
      },
      "text/html": [
       "<div>\n",
       "<style scoped>\n",
       "    .dataframe tbody tr th:only-of-type {\n",
       "        vertical-align: middle;\n",
       "    }\n",
       "\n",
       "    .dataframe tbody tr th {\n",
       "        vertical-align: top;\n",
       "    }\n",
       "\n",
       "    .dataframe thead th {\n",
       "        text-align: right;\n",
       "    }\n",
       "</style>\n",
       "<table border=\"1\" class=\"dataframe\">\n",
       "  <thead>\n",
       "    <tr style=\"text-align: right;\">\n",
       "      <th></th>\n",
       "      <th>datetime</th>\n",
       "      <th>Precio a subir gestión desvíos</th>\n",
       "      <th>Precio a bajar gestión desvíos</th>\n",
       "      <th>Precio energías de balance RR</th>\n",
       "      <th>Divisor</th>\n",
       "    </tr>\n",
       "  </thead>\n",
       "  <tbody>\n",
       "    <tr>\n",
       "      <th>0</th>\n",
       "      <td>2014-01-01</td>\n",
       "      <td>49.484920</td>\n",
       "      <td>6.501511</td>\n",
       "      <td>7651643.90</td>\n",
       "      <td>225669.9</td>\n",
       "    </tr>\n",
       "    <tr>\n",
       "      <th>1</th>\n",
       "      <td>2014-02-01</td>\n",
       "      <td>38.228669</td>\n",
       "      <td>1.215848</td>\n",
       "      <td>6202008.17</td>\n",
       "      <td>235842.5</td>\n",
       "    </tr>\n",
       "    <tr>\n",
       "      <th>2</th>\n",
       "      <td>2014-03-01</td>\n",
       "      <td>39.912608</td>\n",
       "      <td>6.348795</td>\n",
       "      <td>5021400.25</td>\n",
       "      <td>240421.0</td>\n",
       "    </tr>\n",
       "    <tr>\n",
       "      <th>3</th>\n",
       "      <td>2014-04-01</td>\n",
       "      <td>37.841717</td>\n",
       "      <td>2.620150</td>\n",
       "      <td>4387850.04</td>\n",
       "      <td>191512.4</td>\n",
       "    </tr>\n",
       "    <tr>\n",
       "      <th>4</th>\n",
       "      <td>2014-05-01</td>\n",
       "      <td>50.201174</td>\n",
       "      <td>19.997085</td>\n",
       "      <td>5748427.99</td>\n",
       "      <td>142551.5</td>\n",
       "    </tr>\n",
       "  </tbody>\n",
       "</table>\n",
       "</div>"
      ],
      "text/plain": [
       "    datetime  Precio a subir gestión desvíos  Precio a bajar gestión desvíos  \\\n",
       "0 2014-01-01                       49.484920                        6.501511   \n",
       "1 2014-02-01                       38.228669                        1.215848   \n",
       "2 2014-03-01                       39.912608                        6.348795   \n",
       "3 2014-04-01                       37.841717                        2.620150   \n",
       "4 2014-05-01                       50.201174                       19.997085   \n",
       "\n",
       "   Precio energías de balance RR   Divisor  \n",
       "0                     7651643.90  225669.9  \n",
       "1                     6202008.17  235842.5  \n",
       "2                     5021400.25  240421.0  \n",
       "3                     4387850.04  191512.4  \n",
       "4                     5748427.99  142551.5  "
      ]
     },
     "execution_count": 37,
     "metadata": {},
     "output_type": "execute_result"
    }
   ],
   "source": [
    "folder = Path('../descargas/ree/mercados/energia-precios-ponderados-gestion-desvios')\n",
    "df_2 = parse_componentes_json(folder, 'month')\n",
    "df_2.head()"
   ]
  },
  {
   "cell_type": "markdown",
   "id": "8eca89b1",
   "metadata": {},
   "source": [
    "## precios-mercados-tiempo-real"
   ]
  },
  {
   "cell_type": "markdown",
   "id": "94b2b2f2",
   "metadata": {},
   "source": [
    "### Descarga"
   ]
  },
  {
   "cell_type": "code",
   "execution_count": 9,
   "id": "adf10c8d",
   "metadata": {},
   "outputs": [
    {
     "name": "stdout",
     "output_type": "stream",
     "text": [
      "Guardado: ..\\descargas\\ree\\mercados\\precios-mercados-tiempo-real\\precios-mercados-tiempo-real_2014-01-01_0000_2014-01-31_2359.json\n",
      "Guardado: ..\\descargas\\ree\\mercados\\precios-mercados-tiempo-real\\precios-mercados-tiempo-real_2014-02-01_0000_2014-02-28_2359.json\n",
      "Guardado: ..\\descargas\\ree\\mercados\\precios-mercados-tiempo-real\\precios-mercados-tiempo-real_2014-03-01_0000_2014-03-31_2359.json\n",
      "Guardado: ..\\descargas\\ree\\mercados\\precios-mercados-tiempo-real\\precios-mercados-tiempo-real_2014-04-01_0000_2014-04-30_2359.json\n",
      "Guardado: ..\\descargas\\ree\\mercados\\precios-mercados-tiempo-real\\precios-mercados-tiempo-real_2014-05-01_0000_2014-05-31_2359.json\n",
      "Guardado: ..\\descargas\\ree\\mercados\\precios-mercados-tiempo-real\\precios-mercados-tiempo-real_2014-06-01_0000_2014-06-30_2359.json\n",
      "Guardado: ..\\descargas\\ree\\mercados\\precios-mercados-tiempo-real\\precios-mercados-tiempo-real_2014-07-01_0000_2014-07-31_2359.json\n",
      "Guardado: ..\\descargas\\ree\\mercados\\precios-mercados-tiempo-real\\precios-mercados-tiempo-real_2014-08-01_0000_2014-08-31_2359.json\n",
      "Guardado: ..\\descargas\\ree\\mercados\\precios-mercados-tiempo-real\\precios-mercados-tiempo-real_2014-09-01_0000_2014-09-30_2359.json\n",
      "Guardado: ..\\descargas\\ree\\mercados\\precios-mercados-tiempo-real\\precios-mercados-tiempo-real_2014-10-01_0000_2014-10-31_2359.json\n",
      "Guardado: ..\\descargas\\ree\\mercados\\precios-mercados-tiempo-real\\precios-mercados-tiempo-real_2014-11-01_0000_2014-11-30_2359.json\n",
      "Guardado: ..\\descargas\\ree\\mercados\\precios-mercados-tiempo-real\\precios-mercados-tiempo-real_2014-12-01_0000_2014-12-31_2359.json\n",
      "Guardado: ..\\descargas\\ree\\mercados\\precios-mercados-tiempo-real\\precios-mercados-tiempo-real_2015-01-01_0000_2015-01-31_2359.json\n",
      "Guardado: ..\\descargas\\ree\\mercados\\precios-mercados-tiempo-real\\precios-mercados-tiempo-real_2015-02-01_0000_2015-02-28_2359.json\n",
      "Guardado: ..\\descargas\\ree\\mercados\\precios-mercados-tiempo-real\\precios-mercados-tiempo-real_2015-03-01_0000_2015-03-31_2359.json\n",
      "Guardado: ..\\descargas\\ree\\mercados\\precios-mercados-tiempo-real\\precios-mercados-tiempo-real_2015-04-01_0000_2015-04-30_2359.json\n",
      "Guardado: ..\\descargas\\ree\\mercados\\precios-mercados-tiempo-real\\precios-mercados-tiempo-real_2015-05-01_0000_2015-05-31_2359.json\n",
      "Guardado: ..\\descargas\\ree\\mercados\\precios-mercados-tiempo-real\\precios-mercados-tiempo-real_2015-06-01_0000_2015-06-30_2359.json\n",
      "Guardado: ..\\descargas\\ree\\mercados\\precios-mercados-tiempo-real\\precios-mercados-tiempo-real_2015-07-01_0000_2015-07-31_2359.json\n",
      "Guardado: ..\\descargas\\ree\\mercados\\precios-mercados-tiempo-real\\precios-mercados-tiempo-real_2015-08-01_0000_2015-08-31_2359.json\n",
      "Guardado: ..\\descargas\\ree\\mercados\\precios-mercados-tiempo-real\\precios-mercados-tiempo-real_2015-09-01_0000_2015-09-30_2359.json\n",
      "Guardado: ..\\descargas\\ree\\mercados\\precios-mercados-tiempo-real\\precios-mercados-tiempo-real_2015-10-01_0000_2015-10-31_2359.json\n",
      "Guardado: ..\\descargas\\ree\\mercados\\precios-mercados-tiempo-real\\precios-mercados-tiempo-real_2015-11-01_0000_2015-11-30_2359.json\n",
      "Guardado: ..\\descargas\\ree\\mercados\\precios-mercados-tiempo-real\\precios-mercados-tiempo-real_2015-12-01_0000_2015-12-31_2359.json\n",
      "Guardado: ..\\descargas\\ree\\mercados\\precios-mercados-tiempo-real\\precios-mercados-tiempo-real_2016-01-01_0000_2016-01-31_2359.json\n",
      "Guardado: ..\\descargas\\ree\\mercados\\precios-mercados-tiempo-real\\precios-mercados-tiempo-real_2016-02-01_0000_2016-02-29_2359.json\n",
      "Guardado: ..\\descargas\\ree\\mercados\\precios-mercados-tiempo-real\\precios-mercados-tiempo-real_2016-03-01_0000_2016-03-31_2359.json\n",
      "Guardado: ..\\descargas\\ree\\mercados\\precios-mercados-tiempo-real\\precios-mercados-tiempo-real_2016-04-01_0000_2016-04-30_2359.json\n",
      "Guardado: ..\\descargas\\ree\\mercados\\precios-mercados-tiempo-real\\precios-mercados-tiempo-real_2016-05-01_0000_2016-05-31_2359.json\n",
      "Guardado: ..\\descargas\\ree\\mercados\\precios-mercados-tiempo-real\\precios-mercados-tiempo-real_2016-06-01_0000_2016-06-30_2359.json\n",
      "Guardado: ..\\descargas\\ree\\mercados\\precios-mercados-tiempo-real\\precios-mercados-tiempo-real_2016-07-01_0000_2016-07-31_2359.json\n",
      "Guardado: ..\\descargas\\ree\\mercados\\precios-mercados-tiempo-real\\precios-mercados-tiempo-real_2016-08-01_0000_2016-08-31_2359.json\n",
      "Guardado: ..\\descargas\\ree\\mercados\\precios-mercados-tiempo-real\\precios-mercados-tiempo-real_2016-09-01_0000_2016-09-30_2359.json\n",
      "Guardado: ..\\descargas\\ree\\mercados\\precios-mercados-tiempo-real\\precios-mercados-tiempo-real_2016-10-01_0000_2016-10-31_2359.json\n",
      "Guardado: ..\\descargas\\ree\\mercados\\precios-mercados-tiempo-real\\precios-mercados-tiempo-real_2016-11-01_0000_2016-11-30_2359.json\n",
      "Guardado: ..\\descargas\\ree\\mercados\\precios-mercados-tiempo-real\\precios-mercados-tiempo-real_2016-12-01_0000_2016-12-31_2359.json\n",
      "Guardado: ..\\descargas\\ree\\mercados\\precios-mercados-tiempo-real\\precios-mercados-tiempo-real_2017-01-01_0000_2017-01-31_2359.json\n",
      "Guardado: ..\\descargas\\ree\\mercados\\precios-mercados-tiempo-real\\precios-mercados-tiempo-real_2017-02-01_0000_2017-02-28_2359.json\n",
      "Guardado: ..\\descargas\\ree\\mercados\\precios-mercados-tiempo-real\\precios-mercados-tiempo-real_2017-03-01_0000_2017-03-31_2359.json\n",
      "Guardado: ..\\descargas\\ree\\mercados\\precios-mercados-tiempo-real\\precios-mercados-tiempo-real_2017-04-01_0000_2017-04-30_2359.json\n",
      "Guardado: ..\\descargas\\ree\\mercados\\precios-mercados-tiempo-real\\precios-mercados-tiempo-real_2017-05-01_0000_2017-05-31_2359.json\n",
      "Guardado: ..\\descargas\\ree\\mercados\\precios-mercados-tiempo-real\\precios-mercados-tiempo-real_2017-06-01_0000_2017-06-30_2359.json\n",
      "Guardado: ..\\descargas\\ree\\mercados\\precios-mercados-tiempo-real\\precios-mercados-tiempo-real_2017-07-01_0000_2017-07-31_2359.json\n",
      "Guardado: ..\\descargas\\ree\\mercados\\precios-mercados-tiempo-real\\precios-mercados-tiempo-real_2017-08-01_0000_2017-08-31_2359.json\n",
      "Guardado: ..\\descargas\\ree\\mercados\\precios-mercados-tiempo-real\\precios-mercados-tiempo-real_2017-09-01_0000_2017-09-30_2359.json\n",
      "Guardado: ..\\descargas\\ree\\mercados\\precios-mercados-tiempo-real\\precios-mercados-tiempo-real_2017-10-01_0000_2017-10-31_2359.json\n",
      "Guardado: ..\\descargas\\ree\\mercados\\precios-mercados-tiempo-real\\precios-mercados-tiempo-real_2017-11-01_0000_2017-11-30_2359.json\n",
      "Guardado: ..\\descargas\\ree\\mercados\\precios-mercados-tiempo-real\\precios-mercados-tiempo-real_2017-12-01_0000_2017-12-31_2359.json\n",
      "Guardado: ..\\descargas\\ree\\mercados\\precios-mercados-tiempo-real\\precios-mercados-tiempo-real_2018-01-01_0000_2018-01-31_2359.json\n",
      "Guardado: ..\\descargas\\ree\\mercados\\precios-mercados-tiempo-real\\precios-mercados-tiempo-real_2018-02-01_0000_2018-02-28_2359.json\n",
      "Guardado: ..\\descargas\\ree\\mercados\\precios-mercados-tiempo-real\\precios-mercados-tiempo-real_2018-03-01_0000_2018-03-31_2359.json\n",
      "Guardado: ..\\descargas\\ree\\mercados\\precios-mercados-tiempo-real\\precios-mercados-tiempo-real_2018-04-01_0000_2018-04-30_2359.json\n",
      "Guardado: ..\\descargas\\ree\\mercados\\precios-mercados-tiempo-real\\precios-mercados-tiempo-real_2018-05-01_0000_2018-05-31_2359.json\n",
      "Guardado: ..\\descargas\\ree\\mercados\\precios-mercados-tiempo-real\\precios-mercados-tiempo-real_2018-06-01_0000_2018-06-30_2359.json\n",
      "Guardado: ..\\descargas\\ree\\mercados\\precios-mercados-tiempo-real\\precios-mercados-tiempo-real_2018-07-01_0000_2018-07-31_2359.json\n",
      "Guardado: ..\\descargas\\ree\\mercados\\precios-mercados-tiempo-real\\precios-mercados-tiempo-real_2018-08-01_0000_2018-08-31_2359.json\n",
      "Guardado: ..\\descargas\\ree\\mercados\\precios-mercados-tiempo-real\\precios-mercados-tiempo-real_2018-09-01_0000_2018-09-30_2359.json\n",
      "Guardado: ..\\descargas\\ree\\mercados\\precios-mercados-tiempo-real\\precios-mercados-tiempo-real_2018-10-01_0000_2018-10-31_2359.json\n",
      "Guardado: ..\\descargas\\ree\\mercados\\precios-mercados-tiempo-real\\precios-mercados-tiempo-real_2018-11-01_0000_2018-11-30_2359.json\n",
      "Guardado: ..\\descargas\\ree\\mercados\\precios-mercados-tiempo-real\\precios-mercados-tiempo-real_2018-12-01_0000_2018-12-31_2359.json\n",
      "Guardado: ..\\descargas\\ree\\mercados\\precios-mercados-tiempo-real\\precios-mercados-tiempo-real_2019-01-01_0000_2019-01-31_2359.json\n",
      "Guardado: ..\\descargas\\ree\\mercados\\precios-mercados-tiempo-real\\precios-mercados-tiempo-real_2019-02-01_0000_2019-02-28_2359.json\n",
      "Guardado: ..\\descargas\\ree\\mercados\\precios-mercados-tiempo-real\\precios-mercados-tiempo-real_2019-03-01_0000_2019-03-31_2359.json\n",
      "Guardado: ..\\descargas\\ree\\mercados\\precios-mercados-tiempo-real\\precios-mercados-tiempo-real_2019-04-01_0000_2019-04-30_2359.json\n",
      "Guardado: ..\\descargas\\ree\\mercados\\precios-mercados-tiempo-real\\precios-mercados-tiempo-real_2019-05-01_0000_2019-05-31_2359.json\n",
      "Guardado: ..\\descargas\\ree\\mercados\\precios-mercados-tiempo-real\\precios-mercados-tiempo-real_2019-06-01_0000_2019-06-30_2359.json\n",
      "Guardado: ..\\descargas\\ree\\mercados\\precios-mercados-tiempo-real\\precios-mercados-tiempo-real_2019-07-01_0000_2019-07-31_2359.json\n",
      "Guardado: ..\\descargas\\ree\\mercados\\precios-mercados-tiempo-real\\precios-mercados-tiempo-real_2019-08-01_0000_2019-08-31_2359.json\n",
      "Guardado: ..\\descargas\\ree\\mercados\\precios-mercados-tiempo-real\\precios-mercados-tiempo-real_2019-09-01_0000_2019-09-30_2359.json\n",
      "Guardado: ..\\descargas\\ree\\mercados\\precios-mercados-tiempo-real\\precios-mercados-tiempo-real_2019-10-01_0000_2019-10-31_2359.json\n",
      "Guardado: ..\\descargas\\ree\\mercados\\precios-mercados-tiempo-real\\precios-mercados-tiempo-real_2019-11-01_0000_2019-11-30_2359.json\n",
      "Guardado: ..\\descargas\\ree\\mercados\\precios-mercados-tiempo-real\\precios-mercados-tiempo-real_2019-12-01_0000_2019-12-31_2359.json\n",
      "Guardado: ..\\descargas\\ree\\mercados\\precios-mercados-tiempo-real\\precios-mercados-tiempo-real_2020-01-01_0000_2020-01-31_2359.json\n",
      "Guardado: ..\\descargas\\ree\\mercados\\precios-mercados-tiempo-real\\precios-mercados-tiempo-real_2020-02-01_0000_2020-02-29_2359.json\n",
      "Guardado: ..\\descargas\\ree\\mercados\\precios-mercados-tiempo-real\\precios-mercados-tiempo-real_2020-03-01_0000_2020-03-31_2359.json\n",
      "Guardado: ..\\descargas\\ree\\mercados\\precios-mercados-tiempo-real\\precios-mercados-tiempo-real_2020-04-01_0000_2020-04-30_2359.json\n",
      "Guardado: ..\\descargas\\ree\\mercados\\precios-mercados-tiempo-real\\precios-mercados-tiempo-real_2020-05-01_0000_2020-05-31_2359.json\n",
      "Guardado: ..\\descargas\\ree\\mercados\\precios-mercados-tiempo-real\\precios-mercados-tiempo-real_2020-06-01_0000_2020-06-30_2359.json\n",
      "Guardado: ..\\descargas\\ree\\mercados\\precios-mercados-tiempo-real\\precios-mercados-tiempo-real_2020-07-01_0000_2020-07-31_2359.json\n",
      "Guardado: ..\\descargas\\ree\\mercados\\precios-mercados-tiempo-real\\precios-mercados-tiempo-real_2020-08-01_0000_2020-08-31_2359.json\n",
      "Guardado: ..\\descargas\\ree\\mercados\\precios-mercados-tiempo-real\\precios-mercados-tiempo-real_2020-09-01_0000_2020-09-30_2359.json\n",
      "Guardado: ..\\descargas\\ree\\mercados\\precios-mercados-tiempo-real\\precios-mercados-tiempo-real_2020-10-01_0000_2020-10-31_2359.json\n",
      "Guardado: ..\\descargas\\ree\\mercados\\precios-mercados-tiempo-real\\precios-mercados-tiempo-real_2020-11-01_0000_2020-11-30_2359.json\n",
      "Guardado: ..\\descargas\\ree\\mercados\\precios-mercados-tiempo-real\\precios-mercados-tiempo-real_2020-12-01_0000_2020-12-31_2359.json\n",
      "Guardado: ..\\descargas\\ree\\mercados\\precios-mercados-tiempo-real\\precios-mercados-tiempo-real_2021-01-01_0000_2021-01-31_2359.json\n",
      "Guardado: ..\\descargas\\ree\\mercados\\precios-mercados-tiempo-real\\precios-mercados-tiempo-real_2021-02-01_0000_2021-02-28_2359.json\n",
      "Guardado: ..\\descargas\\ree\\mercados\\precios-mercados-tiempo-real\\precios-mercados-tiempo-real_2021-03-01_0000_2021-03-31_2359.json\n",
      "Guardado: ..\\descargas\\ree\\mercados\\precios-mercados-tiempo-real\\precios-mercados-tiempo-real_2021-04-01_0000_2021-04-30_2359.json\n",
      "Guardado: ..\\descargas\\ree\\mercados\\precios-mercados-tiempo-real\\precios-mercados-tiempo-real_2021-05-01_0000_2021-05-31_2359.json\n",
      "Guardado: ..\\descargas\\ree\\mercados\\precios-mercados-tiempo-real\\precios-mercados-tiempo-real_2021-06-01_0000_2021-06-30_2359.json\n",
      "Guardado: ..\\descargas\\ree\\mercados\\precios-mercados-tiempo-real\\precios-mercados-tiempo-real_2021-07-01_0000_2021-07-31_2359.json\n",
      "Guardado: ..\\descargas\\ree\\mercados\\precios-mercados-tiempo-real\\precios-mercados-tiempo-real_2021-08-01_0000_2021-08-31_2359.json\n",
      "Guardado: ..\\descargas\\ree\\mercados\\precios-mercados-tiempo-real\\precios-mercados-tiempo-real_2021-09-01_0000_2021-09-30_2359.json\n",
      "Guardado: ..\\descargas\\ree\\mercados\\precios-mercados-tiempo-real\\precios-mercados-tiempo-real_2021-10-01_0000_2021-10-31_2359.json\n",
      "Guardado: ..\\descargas\\ree\\mercados\\precios-mercados-tiempo-real\\precios-mercados-tiempo-real_2021-11-01_0000_2021-11-30_2359.json\n",
      "Guardado: ..\\descargas\\ree\\mercados\\precios-mercados-tiempo-real\\precios-mercados-tiempo-real_2021-12-01_0000_2021-12-31_2359.json\n",
      "Guardado: ..\\descargas\\ree\\mercados\\precios-mercados-tiempo-real\\precios-mercados-tiempo-real_2022-01-01_0000_2022-01-31_2359.json\n",
      "Guardado: ..\\descargas\\ree\\mercados\\precios-mercados-tiempo-real\\precios-mercados-tiempo-real_2022-02-01_0000_2022-02-28_2359.json\n",
      "Guardado: ..\\descargas\\ree\\mercados\\precios-mercados-tiempo-real\\precios-mercados-tiempo-real_2022-03-01_0000_2022-03-31_2359.json\n",
      "Guardado: ..\\descargas\\ree\\mercados\\precios-mercados-tiempo-real\\precios-mercados-tiempo-real_2022-04-01_0000_2022-04-30_2359.json\n",
      "Guardado: ..\\descargas\\ree\\mercados\\precios-mercados-tiempo-real\\precios-mercados-tiempo-real_2022-05-01_0000_2022-05-31_2359.json\n",
      "Guardado: ..\\descargas\\ree\\mercados\\precios-mercados-tiempo-real\\precios-mercados-tiempo-real_2022-06-01_0000_2022-06-30_2359.json\n",
      "Guardado: ..\\descargas\\ree\\mercados\\precios-mercados-tiempo-real\\precios-mercados-tiempo-real_2022-07-01_0000_2022-07-31_2359.json\n",
      "Guardado: ..\\descargas\\ree\\mercados\\precios-mercados-tiempo-real\\precios-mercados-tiempo-real_2022-08-01_0000_2022-08-31_2359.json\n",
      "Guardado: ..\\descargas\\ree\\mercados\\precios-mercados-tiempo-real\\precios-mercados-tiempo-real_2022-09-01_0000_2022-09-30_2359.json\n",
      "Guardado: ..\\descargas\\ree\\mercados\\precios-mercados-tiempo-real\\precios-mercados-tiempo-real_2022-10-01_0000_2022-10-31_2359.json\n",
      "Guardado: ..\\descargas\\ree\\mercados\\precios-mercados-tiempo-real\\precios-mercados-tiempo-real_2022-11-01_0000_2022-11-30_2359.json\n",
      "Guardado: ..\\descargas\\ree\\mercados\\precios-mercados-tiempo-real\\precios-mercados-tiempo-real_2022-12-01_0000_2022-12-31_2359.json\n",
      "Guardado: ..\\descargas\\ree\\mercados\\precios-mercados-tiempo-real\\precios-mercados-tiempo-real_2023-01-01_0000_2023-01-31_2359.json\n",
      "Guardado: ..\\descargas\\ree\\mercados\\precios-mercados-tiempo-real\\precios-mercados-tiempo-real_2023-02-01_0000_2023-02-28_2359.json\n",
      "Guardado: ..\\descargas\\ree\\mercados\\precios-mercados-tiempo-real\\precios-mercados-tiempo-real_2023-03-01_0000_2023-03-31_2359.json\n",
      "Guardado: ..\\descargas\\ree\\mercados\\precios-mercados-tiempo-real\\precios-mercados-tiempo-real_2023-04-01_0000_2023-04-30_2359.json\n",
      "Guardado: ..\\descargas\\ree\\mercados\\precios-mercados-tiempo-real\\precios-mercados-tiempo-real_2023-05-01_0000_2023-05-31_2359.json\n",
      "Guardado: ..\\descargas\\ree\\mercados\\precios-mercados-tiempo-real\\precios-mercados-tiempo-real_2023-06-01_0000_2023-06-30_2359.json\n",
      "Guardado: ..\\descargas\\ree\\mercados\\precios-mercados-tiempo-real\\precios-mercados-tiempo-real_2023-07-01_0000_2023-07-31_2359.json\n",
      "Guardado: ..\\descargas\\ree\\mercados\\precios-mercados-tiempo-real\\precios-mercados-tiempo-real_2023-08-01_0000_2023-08-31_2359.json\n",
      "Guardado: ..\\descargas\\ree\\mercados\\precios-mercados-tiempo-real\\precios-mercados-tiempo-real_2023-09-01_0000_2023-09-30_2359.json\n",
      "Guardado: ..\\descargas\\ree\\mercados\\precios-mercados-tiempo-real\\precios-mercados-tiempo-real_2023-10-01_0000_2023-10-31_2359.json\n",
      "Guardado: ..\\descargas\\ree\\mercados\\precios-mercados-tiempo-real\\precios-mercados-tiempo-real_2023-11-01_0000_2023-11-30_2359.json\n",
      "Guardado: ..\\descargas\\ree\\mercados\\precios-mercados-tiempo-real\\precios-mercados-tiempo-real_2023-12-01_0000_2023-12-31_2359.json\n",
      "Guardado: ..\\descargas\\ree\\mercados\\precios-mercados-tiempo-real\\precios-mercados-tiempo-real_2024-01-01_0000_2024-01-31_2359.json\n",
      "Guardado: ..\\descargas\\ree\\mercados\\precios-mercados-tiempo-real\\precios-mercados-tiempo-real_2024-02-01_0000_2024-02-29_2359.json\n",
      "Guardado: ..\\descargas\\ree\\mercados\\precios-mercados-tiempo-real\\precios-mercados-tiempo-real_2024-03-01_0000_2024-03-31_2359.json\n",
      "Guardado: ..\\descargas\\ree\\mercados\\precios-mercados-tiempo-real\\precios-mercados-tiempo-real_2024-04-01_0000_2024-04-30_2359.json\n",
      "Guardado: ..\\descargas\\ree\\mercados\\precios-mercados-tiempo-real\\precios-mercados-tiempo-real_2024-05-01_0000_2024-05-31_2359.json\n",
      "Guardado: ..\\descargas\\ree\\mercados\\precios-mercados-tiempo-real\\precios-mercados-tiempo-real_2024-06-01_0000_2024-06-30_2359.json\n",
      "Guardado: ..\\descargas\\ree\\mercados\\precios-mercados-tiempo-real\\precios-mercados-tiempo-real_2024-07-01_0000_2024-07-31_2359.json\n",
      "Guardado: ..\\descargas\\ree\\mercados\\precios-mercados-tiempo-real\\precios-mercados-tiempo-real_2024-08-01_0000_2024-08-31_2359.json\n",
      "Guardado: ..\\descargas\\ree\\mercados\\precios-mercados-tiempo-real\\precios-mercados-tiempo-real_2024-09-01_0000_2024-09-30_2359.json\n",
      "Guardado: ..\\descargas\\ree\\mercados\\precios-mercados-tiempo-real\\precios-mercados-tiempo-real_2024-10-01_0000_2024-10-31_2359.json\n",
      "Guardado: ..\\descargas\\ree\\mercados\\precios-mercados-tiempo-real\\precios-mercados-tiempo-real_2024-11-01_0000_2024-11-30_2359.json\n",
      "Guardado: ..\\descargas\\ree\\mercados\\precios-mercados-tiempo-real\\precios-mercados-tiempo-real_2024-12-01_0000_2024-12-31_2359.json\n",
      "Guardado: ..\\descargas\\ree\\mercados\\precios-mercados-tiempo-real\\precios-mercados-tiempo-real_2025-01-01_0000_2025-01-31_2359.json\n",
      "Guardado: ..\\descargas\\ree\\mercados\\precios-mercados-tiempo-real\\precios-mercados-tiempo-real_2025-02-01_0000_2025-02-28_2359.json\n",
      "Guardado: ..\\descargas\\ree\\mercados\\precios-mercados-tiempo-real\\precios-mercados-tiempo-real_2025-03-01_0000_2025-03-31_2359.json\n",
      "Guardado: ..\\descargas\\ree\\mercados\\precios-mercados-tiempo-real\\precios-mercados-tiempo-real_2025-04-01_0000_2025-04-30_2359.json\n",
      "Guardado: ..\\descargas\\ree\\mercados\\precios-mercados-tiempo-real\\precios-mercados-tiempo-real_2025-05-01_0000_2025-05-31_2359.json\n",
      "Guardado: ..\\descargas\\ree\\mercados\\precios-mercados-tiempo-real\\precios-mercados-tiempo-real_2025-06-01_0000_2025-06-19_2359.json\n"
     ]
    }
   ],
   "source": [
    "download_and_save_json(\n",
    "    'mercados',\n",
    "    'precios-mercados-tiempo-real',\n",
    "    '2014-01-01T00:00',\n",
    "    '2025-06-19T23:59',\n",
    "    'hour',\n",
    "    base_path\n",
    ")\n"
   ]
  },
  {
   "cell_type": "markdown",
   "id": "5cd026c7",
   "metadata": {},
   "source": [
    "### Procesado"
   ]
  },
  {
   "cell_type": "code",
   "execution_count": 38,
   "id": "ad238d48",
   "metadata": {},
   "outputs": [
    {
     "data": {
      "application/vnd.microsoft.datawrangler.viewer.v0+json": {
       "columns": [
        {
         "name": "index",
         "rawType": "int64",
         "type": "integer"
        },
        {
         "name": "datetime",
         "rawType": "datetime64[ns]",
         "type": "datetime"
        },
        {
         "name": "Precio mercado spot",
         "rawType": "float64",
         "type": "float"
        },
        {
         "name": "PVPC",
         "rawType": "float64",
         "type": "float"
        }
       ],
       "ref": "d3a9c19c-8f94-44e4-a288-4d5782db3ea1",
       "rows": [
        [
         "0",
         "2014-01-01 00:00:00",
         "20.02",
         null
        ],
        [
         "1",
         "2014-01-01 01:00:00",
         "10.34",
         null
        ],
        [
         "2",
         "2014-01-01 02:00:00",
         "5.35",
         null
        ],
        [
         "3",
         "2014-01-01 03:00:00",
         "5.0",
         null
        ],
        [
         "4",
         "2014-01-01 04:00:00",
         "0.5",
         null
        ]
       ],
       "shape": {
        "columns": 3,
        "rows": 5
       }
      },
      "text/html": [
       "<div>\n",
       "<style scoped>\n",
       "    .dataframe tbody tr th:only-of-type {\n",
       "        vertical-align: middle;\n",
       "    }\n",
       "\n",
       "    .dataframe tbody tr th {\n",
       "        vertical-align: top;\n",
       "    }\n",
       "\n",
       "    .dataframe thead th {\n",
       "        text-align: right;\n",
       "    }\n",
       "</style>\n",
       "<table border=\"1\" class=\"dataframe\">\n",
       "  <thead>\n",
       "    <tr style=\"text-align: right;\">\n",
       "      <th></th>\n",
       "      <th>datetime</th>\n",
       "      <th>Precio mercado spot</th>\n",
       "      <th>PVPC</th>\n",
       "    </tr>\n",
       "  </thead>\n",
       "  <tbody>\n",
       "    <tr>\n",
       "      <th>0</th>\n",
       "      <td>2014-01-01 00:00:00</td>\n",
       "      <td>20.02</td>\n",
       "      <td>NaN</td>\n",
       "    </tr>\n",
       "    <tr>\n",
       "      <th>1</th>\n",
       "      <td>2014-01-01 01:00:00</td>\n",
       "      <td>10.34</td>\n",
       "      <td>NaN</td>\n",
       "    </tr>\n",
       "    <tr>\n",
       "      <th>2</th>\n",
       "      <td>2014-01-01 02:00:00</td>\n",
       "      <td>5.35</td>\n",
       "      <td>NaN</td>\n",
       "    </tr>\n",
       "    <tr>\n",
       "      <th>3</th>\n",
       "      <td>2014-01-01 03:00:00</td>\n",
       "      <td>5.00</td>\n",
       "      <td>NaN</td>\n",
       "    </tr>\n",
       "    <tr>\n",
       "      <th>4</th>\n",
       "      <td>2014-01-01 04:00:00</td>\n",
       "      <td>0.50</td>\n",
       "      <td>NaN</td>\n",
       "    </tr>\n",
       "  </tbody>\n",
       "</table>\n",
       "</div>"
      ],
      "text/plain": [
       "             datetime  Precio mercado spot  PVPC\n",
       "0 2014-01-01 00:00:00                20.02   NaN\n",
       "1 2014-01-01 01:00:00                10.34   NaN\n",
       "2 2014-01-01 02:00:00                 5.35   NaN\n",
       "3 2014-01-01 03:00:00                 5.00   NaN\n",
       "4 2014-01-01 04:00:00                 0.50   NaN"
      ]
     },
     "execution_count": 38,
     "metadata": {},
     "output_type": "execute_result"
    }
   ],
   "source": [
    "folder = Path('../descargas/ree/mercados/precios-mercados-tiempo-real')\n",
    "df_3 = parse_componentes_json(folder, 'hour')\n",
    "df_3.head()"
   ]
  },
  {
   "cell_type": "markdown",
   "id": "d1a06fdc",
   "metadata": {},
   "source": [
    "## energia-gestionada-servicios-ajuste"
   ]
  },
  {
   "cell_type": "markdown",
   "id": "eae093cf",
   "metadata": {},
   "source": [
    "### Descarga"
   ]
  },
  {
   "cell_type": "code",
   "execution_count": 16,
   "id": "6d63eeb1",
   "metadata": {},
   "outputs": [
    {
     "name": "stdout",
     "output_type": "stream",
     "text": [
      "Guardado: ..\\descargas\\ree\\mercados\\energia-gestionada-servicios-ajuste\\energia-gestionada-servicios-ajuste_2014-01-01_0000_2014-12-31_2359.json\n",
      "Guardado: ..\\descargas\\ree\\mercados\\energia-gestionada-servicios-ajuste\\energia-gestionada-servicios-ajuste_2015-01-01_0000_2015-12-31_2359.json\n",
      "Guardado: ..\\descargas\\ree\\mercados\\energia-gestionada-servicios-ajuste\\energia-gestionada-servicios-ajuste_2016-01-01_0000_2016-12-31_2359.json\n",
      "Guardado: ..\\descargas\\ree\\mercados\\energia-gestionada-servicios-ajuste\\energia-gestionada-servicios-ajuste_2017-01-01_0000_2017-12-31_2359.json\n",
      "Guardado: ..\\descargas\\ree\\mercados\\energia-gestionada-servicios-ajuste\\energia-gestionada-servicios-ajuste_2018-01-01_0000_2018-12-31_2359.json\n",
      "Guardado: ..\\descargas\\ree\\mercados\\energia-gestionada-servicios-ajuste\\energia-gestionada-servicios-ajuste_2019-01-01_0000_2019-12-31_2359.json\n",
      "Guardado: ..\\descargas\\ree\\mercados\\energia-gestionada-servicios-ajuste\\energia-gestionada-servicios-ajuste_2020-01-01_0000_2020-12-31_2359.json\n",
      "Guardado: ..\\descargas\\ree\\mercados\\energia-gestionada-servicios-ajuste\\energia-gestionada-servicios-ajuste_2021-01-01_0000_2021-12-31_2359.json\n",
      "Guardado: ..\\descargas\\ree\\mercados\\energia-gestionada-servicios-ajuste\\energia-gestionada-servicios-ajuste_2022-01-01_0000_2022-12-31_2359.json\n",
      "Guardado: ..\\descargas\\ree\\mercados\\energia-gestionada-servicios-ajuste\\energia-gestionada-servicios-ajuste_2023-01-01_0000_2023-12-31_2359.json\n",
      "Guardado: ..\\descargas\\ree\\mercados\\energia-gestionada-servicios-ajuste\\energia-gestionada-servicios-ajuste_2024-01-01_0000_2024-12-31_2359.json\n",
      "Guardado: ..\\descargas\\ree\\mercados\\energia-gestionada-servicios-ajuste\\energia-gestionada-servicios-ajuste_2025-01-01_0000_2025-06-19_2359.json\n"
     ]
    }
   ],
   "source": [
    "download_and_save_json(\n",
    "    'mercados',\n",
    "    'energia-gestionada-servicios-ajuste',\n",
    "    '2014-01-01T00:00',\n",
    "    '2025-06-19T23:59',\n",
    "    'month',\n",
    "    base_path\n",
    ")\n"
   ]
  },
  {
   "cell_type": "markdown",
   "id": "10fa482d",
   "metadata": {},
   "source": [
    "### Procesado"
   ]
  },
  {
   "cell_type": "code",
   "execution_count": 39,
   "id": "16bd6906",
   "metadata": {},
   "outputs": [
    {
     "data": {
      "application/vnd.microsoft.datawrangler.viewer.v0+json": {
       "columns": [
        {
         "name": "index",
         "rawType": "int64",
         "type": "integer"
        },
        {
         "name": "datetime",
         "rawType": "datetime64[ns]",
         "type": "datetime"
        },
        {
         "name": "Energía programada por seguridad a subir",
         "rawType": "float64",
         "type": "float"
        },
        {
         "name": "Energía programada por seguridad a bajar",
         "rawType": "float64",
         "type": "float"
        },
        {
         "name": "Energía de balance a subir",
         "rawType": "float64",
         "type": "float"
        },
        {
         "name": "Energía de balance a bajar",
         "rawType": "float64",
         "type": "float"
        }
       ],
       "ref": "1f910e73-8b3b-4521-9137-43eb1bca70e6",
       "rows": [
        [
         "0",
         "2014-01-01 00:00:00",
         "1052529.9",
         "-233744.6",
         "592420.1",
         "-355635.4"
        ],
        [
         "1",
         "2014-02-01 00:00:00",
         "952533.6",
         "-336101.1",
         "512839.9",
         "-339301.1"
        ],
        [
         "2",
         "2014-03-01 00:00:00",
         "1113618.3",
         "-200928.5",
         "452573.1",
         "-476333.0"
        ],
        [
         "3",
         "2014-04-01 00:00:00",
         "1161613.3",
         "-65465.4",
         "531782.7",
         "-327268.1"
        ],
        [
         "4",
         "2014-05-01 00:00:00",
         "940816.1",
         "-86008.4",
         "496273.9",
         "-285274.6"
        ]
       ],
       "shape": {
        "columns": 5,
        "rows": 5
       }
      },
      "text/html": [
       "<div>\n",
       "<style scoped>\n",
       "    .dataframe tbody tr th:only-of-type {\n",
       "        vertical-align: middle;\n",
       "    }\n",
       "\n",
       "    .dataframe tbody tr th {\n",
       "        vertical-align: top;\n",
       "    }\n",
       "\n",
       "    .dataframe thead th {\n",
       "        text-align: right;\n",
       "    }\n",
       "</style>\n",
       "<table border=\"1\" class=\"dataframe\">\n",
       "  <thead>\n",
       "    <tr style=\"text-align: right;\">\n",
       "      <th></th>\n",
       "      <th>datetime</th>\n",
       "      <th>Energía programada por seguridad a subir</th>\n",
       "      <th>Energía programada por seguridad a bajar</th>\n",
       "      <th>Energía de balance a subir</th>\n",
       "      <th>Energía de balance a bajar</th>\n",
       "    </tr>\n",
       "  </thead>\n",
       "  <tbody>\n",
       "    <tr>\n",
       "      <th>0</th>\n",
       "      <td>2014-01-01</td>\n",
       "      <td>1052529.9</td>\n",
       "      <td>-233744.6</td>\n",
       "      <td>592420.1</td>\n",
       "      <td>-355635.4</td>\n",
       "    </tr>\n",
       "    <tr>\n",
       "      <th>1</th>\n",
       "      <td>2014-02-01</td>\n",
       "      <td>952533.6</td>\n",
       "      <td>-336101.1</td>\n",
       "      <td>512839.9</td>\n",
       "      <td>-339301.1</td>\n",
       "    </tr>\n",
       "    <tr>\n",
       "      <th>2</th>\n",
       "      <td>2014-03-01</td>\n",
       "      <td>1113618.3</td>\n",
       "      <td>-200928.5</td>\n",
       "      <td>452573.1</td>\n",
       "      <td>-476333.0</td>\n",
       "    </tr>\n",
       "    <tr>\n",
       "      <th>3</th>\n",
       "      <td>2014-04-01</td>\n",
       "      <td>1161613.3</td>\n",
       "      <td>-65465.4</td>\n",
       "      <td>531782.7</td>\n",
       "      <td>-327268.1</td>\n",
       "    </tr>\n",
       "    <tr>\n",
       "      <th>4</th>\n",
       "      <td>2014-05-01</td>\n",
       "      <td>940816.1</td>\n",
       "      <td>-86008.4</td>\n",
       "      <td>496273.9</td>\n",
       "      <td>-285274.6</td>\n",
       "    </tr>\n",
       "  </tbody>\n",
       "</table>\n",
       "</div>"
      ],
      "text/plain": [
       "    datetime  Energía programada por seguridad a subir  \\\n",
       "0 2014-01-01                                 1052529.9   \n",
       "1 2014-02-01                                  952533.6   \n",
       "2 2014-03-01                                 1113618.3   \n",
       "3 2014-04-01                                 1161613.3   \n",
       "4 2014-05-01                                  940816.1   \n",
       "\n",
       "   Energía programada por seguridad a bajar  Energía de balance a subir  \\\n",
       "0                                 -233744.6                    592420.1   \n",
       "1                                 -336101.1                    512839.9   \n",
       "2                                 -200928.5                    452573.1   \n",
       "3                                  -65465.4                    531782.7   \n",
       "4                                  -86008.4                    496273.9   \n",
       "\n",
       "   Energía de balance a bajar  \n",
       "0                   -355635.4  \n",
       "1                   -339301.1  \n",
       "2                   -476333.0  \n",
       "3                   -327268.1  \n",
       "4                   -285274.6  "
      ]
     },
     "execution_count": 39,
     "metadata": {},
     "output_type": "execute_result"
    }
   ],
   "source": [
    "folder = Path('../descargas/ree/mercados/energia-gestionada-servicios-ajuste')\n",
    "df_4 = parse_componentes_json(folder,'month')\n",
    "df_4.head()"
   ]
  },
  {
   "cell_type": "markdown",
   "id": "53e1906f",
   "metadata": {},
   "source": [
    "Para el resto de categorías es repetir el mismo patrón y si corresponde alguna ligera modificación de las dos funciones principales para tomar los valores correctos de los json descargados"
   ]
  },
  {
   "cell_type": "markdown",
   "id": "0f9c05ee",
   "metadata": {},
   "source": [
    "Al finalizar según corresponda guardar los df por separados o unificar aquellos que la serie temporal lo permita."
   ]
  }
 ],
 "metadata": {
  "kernelspec": {
   "display_name": "Python 3",
   "language": "python",
   "name": "python3"
  },
  "language_info": {
   "codemirror_mode": {
    "name": "ipython",
    "version": 3
   },
   "file_extension": ".py",
   "mimetype": "text/x-python",
   "name": "python",
   "nbconvert_exporter": "python",
   "pygments_lexer": "ipython3",
   "version": "3.11.2"
  }
 },
 "nbformat": 4,
 "nbformat_minor": 5
}
